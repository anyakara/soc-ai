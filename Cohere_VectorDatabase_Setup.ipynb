{
  "nbformat": 4,
  "nbformat_minor": 0,
  "metadata": {
    "colab": {
      "provenance": [],
      "toc_visible": true
    },
    "kernelspec": {
      "name": "python3",
      "display_name": "Python 3"
    },
    "language_info": {
      "name": "python"
    }
  },
  "cells": [
    {
      "cell_type": "markdown",
      "source": [
        "**Medical Semantic Search Engine** Inspired Development Environment"
      ],
      "metadata": {
        "id": "cMDFnO8Lpo_O"
      }
    },
    {
      "cell_type": "code",
      "execution_count": null,
      "metadata": {
        "id": "OFGE8ghqQSZD"
      },
      "outputs": [],
      "source": [
        "!pip install -U cohere pinecone-client datasets"
      ]
    },
    {
      "cell_type": "code",
      "source": [
        "import cohere\n",
        "co = cohere.Client(\"8INyfGiry5dseAz8Wg1E0w50PUe1vV2WgN9mKf0T\")"
      ],
      "metadata": {
        "id": "PGIsAFUxQz1j"
      },
      "execution_count": null,
      "outputs": []
    },
    {
      "cell_type": "code",
      "source": [
        "from datasets import load_dataset\n",
        "# load the first 1K rows of the TREC dataset\n",
        "trec = load_dataset('trec', split='train[:1000]')\n",
        "embeds = co.embed(\n",
        "    texts=trec['text'],\n",
        "    model='small',\n",
        "    truncate='LEFT'\n",
        ").embeddings"
      ],
      "metadata": {
        "id": "tcT7i0XoRAZ4"
      },
      "execution_count": null,
      "outputs": []
    },
    {
      "cell_type": "code",
      "source": [
        "trec"
      ],
      "metadata": {
        "id": "QpCD-7aToMvf"
      },
      "execution_count": null,
      "outputs": []
    },
    {
      "cell_type": "code",
      "source": [
        "import numpy as np\n",
        "shape = np.array(embeds).shape\n",
        "print(shape)"
      ],
      "metadata": {
        "id": "AP52sUOqg7dp"
      },
      "execution_count": null,
      "outputs": []
    },
    {
      "cell_type": "code",
      "source": [
        "import pinecone\n",
        "# initialize connection to pinecone (get API key at app.pinecone.io)\n",
        "pinecone.init(api_key='b0a30cde-a880-495f-93d9-e6bf0788860d', \\\n",
        "              environment='asia-southeast1-gcp')\n",
        "index_name = 'cohere-pinecone-trec'\n",
        "\n",
        "# if the index does not exist, we create it\n",
        "if index_name not in pinecone.list_indexes():\n",
        "  pinecone.create_index(\n",
        "      index_name,\n",
        "      dimension=shape[1],\n",
        "      metric='cosine'\n",
        "  )\n",
        "\n",
        "# connect to index\n",
        "index = pinecone.Index(index_name)"
      ],
      "metadata": {
        "id": "kkrXfgZxhBrc"
      },
      "execution_count": null,
      "outputs": []
    },
    {
      "cell_type": "markdown",
      "source": [
        "We can begin populating the index with our embeddings. pinecone expects us to provide a list of tuples in the format (id, vector, metadata), where the metadata field is an optional extra field where we can store anything we want in a dictionary format. For this example, we will store the original text of the embeddings."
      ],
      "metadata": {
        "id": "ZMuwkF8QktON"
      }
    },
    {
      "cell_type": "code",
      "source": [
        "batch_size = 128\n",
        "ids = [str(i) for i in range(shape[0])]\n",
        "\n",
        "# create a list of metadata dictionaries\n",
        "meta = [{'text': text} for text in trec['text']]\n",
        "\n",
        "# create list of (id, vector, metadata) tuples to be upserted\n",
        "to_upsert = list(zip(ids, embeds, meta))\n",
        "\n",
        "for i in range(0, shape[0], batch_size):\n",
        "  i_end = min(i+batch_size, shape[0])\n",
        "  index.upsert(vectors=to_upsert[i:i_end])\n",
        "\n",
        "# let's view the index statistics\n",
        "print(index.describe_index_stats())"
      ],
      "metadata": {
        "id": "MDgmflgClEro"
      },
      "execution_count": null,
      "outputs": []
    },
    {
      "cell_type": "markdown",
      "source": [
        "*Sematic Search* We have indexed our vectors we can perform a few search queries. When searching we first embed our query using Cohere, and then search using the returned vector in Pinecone."
      ],
      "metadata": {
        "id": "uSair_yXl96j"
      }
    },
    {
      "cell_type": "code",
      "source": [
        "query = \"Why was there a long-term economic downturn in the early 20th century?\"\n",
        "# query = \"What was the cause of the major recession in the early 20th century?\"\n",
        "# query = \"What caused the 1929 Great Depression?\"\n",
        "# create the query embedding\n",
        "xq = co.embed(\n",
        "    texts=[query],\n",
        "    model='small',\n",
        "    truncate='LEFT'\n",
        ").embeddings\n",
        "\n",
        "print(np.array(xq).shape)\n",
        "\n",
        "# query, returning the top 5 most similar results\n",
        "res = index.query(xq, top_k=5, include_metadata=True)"
      ],
      "metadata": {
        "id": "4UbYCtXGl7lv"
      },
      "execution_count": null,
      "outputs": []
    },
    {
      "cell_type": "code",
      "source": [
        "for match in res['matches']:\n",
        "  print(f\"{match['score']:.2f}: {match['metadata']['text']}\")"
      ],
      "metadata": {
        "id": "rXFhm9ltmm-T"
      },
      "execution_count": null,
      "outputs": []
    }
  ]
}